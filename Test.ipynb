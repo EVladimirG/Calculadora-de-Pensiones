{
 "cells": [
  {
   "cell_type": "code",
   "execution_count": 166,
   "metadata": {},
   "outputs": [],
   "source": [
    "import csv \n",
    "import os\n",
    "from num2words import num2words  "
   ]
  },
  {
   "cell_type": "code",
   "execution_count": 167,
   "metadata": {},
   "outputs": [],
   "source": [
    "def NombreMes(numero_mes):\n",
    "    meses = {\n",
    "        1: \"Enero\",\n",
    "        2: \"Febrero\",\n",
    "        3: \"Marzo\",\n",
    "        4: \"Abril\",\n",
    "        5: \"Mayo\",\n",
    "        6: \"Junio\",\n",
    "        7: \"Julio\",\n",
    "        8: \"Agosto\",\n",
    "        9: \"Septiembre\",\n",
    "        10: \"Octubre\",\n",
    "        11: \"Noviembre\",\n",
    "        12: \"Diciembre\"\n",
    "    }\n",
    "    return meses.get(numero_mes, \"Mes inválido\")\n",
    "\n",
    "def NumeroMes(nombre_mes):\n",
    "    meses = {\n",
    "        \"Enero\": 1,\n",
    "        \"Febrero\": 2, \n",
    "        \"Marzo\": 3, \n",
    "        \"Abril\": 4,\n",
    "        \"Mayo\": 5, \n",
    "        \"Junio\": 6, \n",
    "        \"Julio\": 7, \n",
    "        \"Agosto\": 8,\n",
    "        \"Septiembre\": 9, \n",
    "        \"Octubre\": 10, \n",
    "        \"Noviembre\": 11, \n",
    "        \"Diciembre\": 12\n",
    "    }\n",
    "    return meses.get(nombre_mes.capitalize(), None)  "
   ]
  },
  {
   "cell_type": "markdown",
   "metadata": {},
   "source": [
    "Escribir y crear archivo "
   ]
  },
  {
   "cell_type": "code",
   "execution_count": 168,
   "metadata": {},
   "outputs": [
    {
     "data": {
      "text/plain": [
       "'\\n\\ndef Template(YearI, YearF, MesI, MesF):\\n    filename = \\'Rango.csv\\'\\n    with open(filename, \\'w\\', newline=\\'\\', encoding=\\'utf-8\\') as csvfile:\\n        writer = csv.writer(csvfile, delimiter=\\',\\', quotechar=\\'\"\\', quoting=csv.QUOTE_MINIMAL)\\n        \\n        for Year in range(YearI, YearF + 1):\\n            writer.writerow([f\\'{Year}\\']) \\n\\n            start_month = MesI if Year == YearI else 1\\n            end_month = MesF if Year == YearF else 12\\n\\n            for Mes in range(start_month, end_month + 1):\\n                writer.writerow([f\\'{NombreMes(Mes)}\\', \\'0\\']) \\n            \\n    print(f\"Archivo \\'{filename}\\' generado exitosamente.\")\\n\\n'"
      ]
     },
     "execution_count": 168,
     "metadata": {},
     "output_type": "execute_result"
    }
   ],
   "source": [
    "def Template(YearI, YearF, MesI, MesF):\n",
    "    filename = 'Rango.csv'\n",
    "    with open(filename, 'w', newline='', encoding='utf-8') as csvfile:\n",
    "        writer = csv.writer(csvfile, delimiter=',', quotechar='\"', quoting=csv.QUOTE_MINIMAL)\n",
    "        \n",
    "        for Year in range(YearI, YearF + 1):\n",
    "            writer.writerow([f'{Year}']) \n",
    "\n",
    "            start_month = MesI if Year == YearI else 1\n",
    "            end_month = MesF if Year == YearF else 12\n",
    "\n",
    "            for Mes in range(start_month, end_month + 1):\n",
    "                writer.writerow([f'{NombreMes(Mes)}', '0']) \n",
    "            \n",
    "    print(f\"Archivo '{filename}' generado exitosamente.\")\n",
    "\n"
   ]
  },
  {
   "cell_type": "code",
   "execution_count": 169,
   "metadata": {},
   "outputs": [
    {
     "name": "stdout",
     "output_type": "stream",
     "text": [
      "Archivo 'Rango.csv' generado exitosamente.\n"
     ]
    }
   ],
   "source": [
    "Template(2023, 2024, 10, 3)"
   ]
  },
  {
   "cell_type": "markdown",
   "metadata": {},
   "source": [
    "Leer"
   ]
  },
  {
   "cell_type": "code",
   "execution_count": 170,
   "metadata": {},
   "outputs": [],
   "source": [
    "def LeerTemplate():\n",
    "    with open('Rango.csv', 'r', encoding='utf-8') as csvfile:\n",
    "        reader = csv.reader(csvfile, delimiter=',')\n",
    "    \n",
    "    for row in reader:\n",
    "        if len(row) == 2: \n",
    "            nombre_mes = row[0].strip()\n",
    "            valor = row[1].strip()\n",
    "\n",
    "            num_mes = NumeroMes(nombre_mes)\n",
    "            if num_mes is not None:\n",
    "                print(f\"{num_mes}, {valor}\") \n",
    "            else:\n",
    "                print(f\"Mes inválido: {nombre_mes}, {valor}\")\n",
    "        else:\n",
    "            print(\", \".join(row)) \n",
    "    return(valor)\n",
    "\n"
   ]
  },
  {
   "cell_type": "code",
   "execution_count": 171,
   "metadata": {},
   "outputs": [],
   "source": [
    "def obtener_valor(año, mes, archivo='Rango.csv'):\n",
    "    with open(archivo, 'r', encoding='utf-8') as csvfile:\n",
    "        reader = csv.reader(csvfile, delimiter=',')\n",
    "        año_actual = None\n",
    "\n",
    "        for row in reader:\n",
    "            row = [campo.strip() for campo in row if campo.strip()] \n",
    "            if len(row) == 1:  \n",
    "                try:\n",
    "                    año_actual = int(row[0])\n",
    "                except ValueError:\n",
    "                    continue \n",
    "            elif len(row) == 2 and año_actual is not None: \n",
    "                nombre_mes, valor = row[0].strip(), row[1].strip()\n",
    "                num_mes = NumeroMes(nombre_mes)\n",
    "\n",
    "                if año_actual == año and num_mes == mes:\n",
    "                    return valor \n",
    "\n",
    "    return \"Valor no encontrado\""
   ]
  },
  {
   "cell_type": "code",
   "execution_count": 172,
   "metadata": {},
   "outputs": [
    {
     "name": "stdout",
     "output_type": "stream",
     "text": [
      "El valor para 2023-10 es: 0\n"
     ]
    }
   ],
   "source": [
    "año = 2023\n",
    "mes = 10\n",
    "valor = obtener_valor(año, mes)\n",
    "print(f\"El valor para {año}-{mes} es: {valor}\")"
   ]
  },
  {
   "cell_type": "code",
   "execution_count": 173,
   "metadata": {},
   "outputs": [],
   "source": [
    "def strti(string_value):\n",
    "    try:\n",
    "        float_value = int(string_value)\n",
    "        return float_value\n",
    "    except ValueError:\n",
    "        print(\"Error: The string contains a non-numeric value.\")\n",
    "        return None\n",
    "    \n",
    "def strtf(string_value):\n",
    "    try:\n",
    "        float_value = float(string_value)\n",
    "        return float_value\n",
    "    except ValueError:\n",
    "        print(\"Error: The string contains a non-numeric value.\")\n",
    "        return None"
   ]
  },
  {
   "cell_type": "code",
   "execution_count": 174,
   "metadata": {},
   "outputs": [],
   "source": [
    "def numero_a_moneda(numero):\n",
    "    try:\n",
    "        numero = float(numero)  \n",
    "    except ValueError:\n",
    "        return \"Valor no válido\"  \n",
    "    \n",
    "    entero = int(numero)\n",
    "    decimales = round((numero - entero) * 100)\n",
    "\n",
    "    texto_entero = num2words(entero, lang='es').capitalize()\n",
    "    texto_decimales = num2words(decimales, lang='es').capitalize()\n",
    "\n",
    "    if decimales > 0:\n",
    "        resultado = f\"{texto_entero} pesos y {texto_decimales} centavos\"\n",
    "    else:\n",
    "        resultado = f\"{texto_entero} pesos\"\n",
    "\n",
    "    return resultado\n"
   ]
  },
  {
   "cell_type": "code",
   "execution_count": 190,
   "metadata": {},
   "outputs": [],
   "source": [
    "def convertir_a_float(lista):\n",
    "    try:\n",
    "        return [float(elemento) for elemento in lista]\n",
    "    except ValueError:\n",
    "        return \"Error: No todos los elementos de la lista pueden convertirse a float.\"\n"
   ]
  },
  {
   "cell_type": "code",
   "execution_count": 194,
   "metadata": {},
   "outputs": [],
   "source": [
    "doc = 'Test'\n",
    "doc = f\"{doc}.txt\"\n",
    "    \n",
    "Yeari = 2023\n",
    "Yearf = 2024\n",
    "\n",
    "Monthi = 8\n",
    "Monthf = 6\n",
    "\n",
    "\n",
    "with open(doc, \"w\") as archivo:\n",
    "    SumTotal = 0\n",
    "    for year in range(Yeari, Yearf+1):\n",
    "        if year == Yeari:\n",
    "            MesI = Monthi\n",
    "        else:\n",
    "            MesI = 1\n",
    "        if year == Yearf:\n",
    "            MesF = Monthf\n",
    "        else:\n",
    "            MesF = 12\n",
    "\n",
    "        archivo.write(f\"\\t\\t--Año: {year} --\\n\")\n",
    "        \n",
    "        SumMensual = []\n",
    "        for mes in range(MesI, MesF):\n",
    "            salario_mes = obtener_valor(year, mes)\n",
    "            SumMensual.append(salario_mes)\n",
    "            archivo.write(f\"{NombreMes(mes)} - {year}\\t: ${salario_mes} ({numero_a_moneda(salario_mes)} m.n)\\n\")\n",
    "\n",
    "        SumAnual = sum(convertir_a_float(SumMensual))\n",
    "        SumTotal += SumAnual\n",
    "        archivo.write(f\"\\nSuma del salario mensualmente en el año {year}: ${round(SumAnual,3)} ({numero_a_moneda(SumAnual)} m.n)\\n\")\n",
    "        archivo.write(f\"Suma total acumulada hasta el año {year}: ${round(SumTotal,3)} ({numero_a_moneda(SumTotal)} m.n)\\n\\n\")\n",
    "\n",
    "    os.system(doc)"
   ]
  },
  {
   "cell_type": "code",
   "execution_count": null,
   "metadata": {},
   "outputs": [],
   "source": []
  }
 ],
 "metadata": {
  "kernelspec": {
   "display_name": "base",
   "language": "python",
   "name": "python3"
  },
  "language_info": {
   "codemirror_mode": {
    "name": "ipython",
    "version": 3
   },
   "file_extension": ".py",
   "mimetype": "text/x-python",
   "name": "python",
   "nbconvert_exporter": "python",
   "pygments_lexer": "ipython3",
   "version": "3.12.2"
  }
 },
 "nbformat": 4,
 "nbformat_minor": 2
}
